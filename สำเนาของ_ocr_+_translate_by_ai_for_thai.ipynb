{
  "nbformat": 4,
  "nbformat_minor": 0,
  "metadata": {
    "colab": {
      "provenance": [],
      "authorship_tag": "ABX9TyM56lPxwnqC8LZbI7LcM25G",
      "include_colab_link": true
    },
    "kernelspec": {
      "name": "python3",
      "display_name": "Python 3"
    },
    "language_info": {
      "name": "python"
    }
  },
  "cells": [
    {
      "cell_type": "markdown",
      "metadata": {
        "id": "view-in-github",
        "colab_type": "text"
      },
      "source": [
        "<a href=\"https://colab.research.google.com/github/SirawatVry/ai-ocr-translate/blob/main/%E0%B8%AA%E0%B8%B3%E0%B9%80%E0%B8%99%E0%B8%B2%E0%B8%82%E0%B8%AD%E0%B8%87_ocr_%2B_translate_by_ai_for_thai.ipynb\" target=\"_parent\"><img src=\"https://colab.research.google.com/assets/colab-badge.svg\" alt=\"Open In Colab\"/></a>"
      ]
    },
    {
      "cell_type": "code",
      "source": [
        "from google.colab import drive\n",
        "drive.mount('/content/drive')"
      ],
      "metadata": {
        "colab": {
          "base_uri": "https://localhost:8080/"
        },
        "id": "8dtUBSji-qC-",
        "outputId": "54567670-df02-4a68-92f4-0f86be8b5ece"
      },
      "execution_count": null,
      "outputs": [
        {
          "output_type": "stream",
          "name": "stdout",
          "text": [
            "Mounted at /content/drive\n"
          ]
        }
      ]
    },
    {
      "cell_type": "code",
      "source": [
        "%pip install PyMuPDF\n",
        "%pip install pytesseract"
      ],
      "metadata": {
        "colab": {
          "base_uri": "https://localhost:8080/"
        },
        "id": "_DBEfRDc_BmK",
        "outputId": "9e4f5431-f919-40cc-a91f-c47516bdb8df"
      },
      "execution_count": null,
      "outputs": [
        {
          "output_type": "stream",
          "name": "stdout",
          "text": [
            "Collecting PyMuPDF\n",
            "  Downloading pymupdf-1.26.3-cp39-abi3-manylinux_2_28_x86_64.whl.metadata (3.4 kB)\n",
            "Downloading pymupdf-1.26.3-cp39-abi3-manylinux_2_28_x86_64.whl (24.1 MB)\n",
            "\u001b[2K   \u001b[90m━━━━━━━━━━━━━━━━━━━━━━━━━━━━━━━━━━━━━━━━\u001b[0m \u001b[32m24.1/24.1 MB\u001b[0m \u001b[31m60.5 MB/s\u001b[0m eta \u001b[36m0:00:00\u001b[0m\n",
            "\u001b[?25hInstalling collected packages: PyMuPDF\n",
            "Successfully installed PyMuPDF-1.26.3\n",
            "Collecting pytesseract\n",
            "  Downloading pytesseract-0.3.13-py3-none-any.whl.metadata (11 kB)\n",
            "Requirement already satisfied: packaging>=21.3 in /usr/local/lib/python3.11/dist-packages (from pytesseract) (24.2)\n",
            "Requirement already satisfied: Pillow>=8.0.0 in /usr/local/lib/python3.11/dist-packages (from pytesseract) (11.2.1)\n",
            "Downloading pytesseract-0.3.13-py3-none-any.whl (14 kB)\n",
            "Installing collected packages: pytesseract\n",
            "Successfully installed pytesseract-0.3.13\n"
          ]
        }
      ]
    },
    {
      "cell_type": "code",
      "execution_count": null,
      "metadata": {
        "colab": {
          "base_uri": "https://localhost:8080/"
        },
        "id": "hXBA2aSk-gDK",
        "outputId": "a1fba4ab-9499-41e9-bbc7-e8ab2906d676"
      },
      "outputs": [
        {
          "output_type": "stream",
          "name": "stdout",
          "text": [
            "\n",
            "กำลังประมวลผลหน้า 1 ...\n",
            "OCR API error: Status 502\n",
            "Response body: {\n",
            "  \"message\":\"An invalid response was received from the upstream server\",\n",
            "  \"request_id\":\"371791103369a3575f42d109631ea372\"\n",
            "}\n",
            "OCR API error: Status 502\n",
            "Response body: {\n",
            "  \"message\":\"An invalid response was received from the upstream server\",\n",
            "  \"request_id\":\"e5a42d5c4ed64c61e8420b12ede7fe09\"\n",
            "}\n",
            "OCR API error: Status 502\n",
            "Response body: An invalid response was received from the upstream server\n",
            "\n",
            "Fallback to pytesseract OCR\n",
            " ข้อความ OCR: a aan’  Computer System Structure  O Computer system can be ...\n",
            " แปลแล้ว: โครงสร้างระบบคอมพิวเตอร์ของ Aan's ระบบคอมพิวเตอร์ O สามารถแบ่งออกเป็น 4 องค์ประกอบได้: ฮาร์ดแวร์ — ให้ทรัพยากรการคอมพิวเตอร์ขั้นพื้นฐาน » ระบบความทรงจำ ไอ / โอ อุปกรณ์ปฏิบัติการ » การควบคุมและพิกัดการใช้ฮาร์ดแวร์ในโปรแกรมแอปพลิเคชันแอพพลิเคชันและแอปพลิเคชันผู้ใช้งานต่าง ๆ — กำหนดวิธีการที่ทรัพยากรระบบใช้เพื่อแก้ปัญหาการคอมพิวเตอร์ของผู้ใช้ » เครื่องประกอบคำ ประมวลผล ผู้ใช้เว็บ ระบบฐานข้อมูล ผู้ใช้งานวิดีโอเกม » เครื่องจักร ระบบคอมพิวเตอร์อื่น ๆ แนวคิดการดำเนินงานของคอมพิวเตอร์ — 10 ฉบับ 1.5 ศิลปิน กา\n",
            "\n",
            "\n",
            "=== แปลหน้า 1 ===\n",
            "โครงสร้างระบบคอมพิวเตอร์ของ Aan's ระบบคอมพิวเตอร์ O สามารถแบ่งออกเป็น 4 องค์ประกอบได้: ฮาร์ดแวร์ — ให้ทรัพยากรการคอมพิวเตอร์ขั้นพื้นฐาน » ระบบความทรงจำ ไอ / โอ อุปกรณ์ปฏิบัติการ » การควบคุมและพิกัดการใช้ฮาร์ดแวร์ในโปรแกรมแอปพลิเคชันแอพพลิเคชันและแอปพลิเคชันผู้ใช้งานต่าง ๆ — กำหนดวิธีการที่ทรัพยากรระบบใช้เพื่อแก้ปัญหาการคอมพิวเตอร์ของผู้ใช้ » เครื่องประกอบคำ ประมวลผล ผู้ใช้เว็บ ระบบฐานข้อมูล ผู้ใช้งานวิดีโอเกม » เครื่องจักร ระบบคอมพิวเตอร์อื่น ๆ แนวคิดการดำเนินงานของคอมพิวเตอร์ — 10 ฉบับ 1.5 ศิลปิน กา\n",
            "\n",
            "\n",
            " เสร็จสิ้น! แสดงผลทั้งหมดแล้วทางหน้าจอ\n"
          ]
        }
      ],
      "source": [
        "import time\n",
        "from PIL import Image\n",
        "import pytesseract\n",
        "from io import BytesIO\n",
        "import requests\n",
        "import json\n",
        "import fitz\n",
        "API_KEY = \"5QnUpqx5JD4n2hVyXNBUfMFYm54VAMzY\"\n",
        "\n",
        "def ocr_image(image_bytes, retries=3):\n",
        "    url = \"https://api.aiforthai.in.th/ocr\"\n",
        "    headers = {\"Apikey\": API_KEY}\n",
        "    files = {\n",
        "        'file': ('page.png', image_bytes, 'image/png')\n",
        "    }\n",
        "\n",
        "    for attempt in range(retries):\n",
        "        try:\n",
        "            response = requests.post(url, headers=headers, files=files, timeout=20)\n",
        "            if response.status_code == 200:\n",
        "                result = response.json()\n",
        "                return result.get(\"originaltext\", \"\")\n",
        "            else:\n",
        "                print(f\"OCR API error: Status {response.status_code}\")\n",
        "                print(\"Response body:\", response.text)\n",
        "        except Exception as e:\n",
        "            print(f\"OCR Exception (attempt {attempt + 1}):\", e)\n",
        "        time.sleep(2)\n",
        "\n",
        "    print(\"Fallback to pytesseract OCR\")\n",
        "    try:\n",
        "        img = Image.open(BytesIO(image_bytes))\n",
        "        text = pytesseract.image_to_string(img, lang='eng')\n",
        "        return text\n",
        "    except Exception as e:\n",
        "        print(\"Fallback OCR failed:\", e)\n",
        "        return \"\"\n",
        "\n",
        "def translate_en_to_th(text):\n",
        "    url = \"https://api.aiforthai.in.th/xiaofan-en-th/en2th\"\n",
        "    headers = {\n",
        "        \"apikey\": API_KEY,\n",
        "        \"Content-Type\": \"application/json\"\n",
        "    }\n",
        "    payload = json.dumps({\"text\": text})\n",
        "\n",
        "    try:\n",
        "        response = requests.post(url, headers=headers, data=payload)\n",
        "        if response.status_code != 200:\n",
        "            print(f\"Error during Translation API call: Status Code {response.status_code}\")\n",
        "            print(f\"Response body: {response.text}\")\n",
        "            return \"\"\n",
        "        result = response.json()\n",
        "        return result.get(\"translated_text\", response.text)\n",
        "    except json.JSONDecodeError:\n",
        "        print(\"Error decoding JSON from Translation API response.\")\n",
        "        print(f\"Response body: {response.text}\")\n",
        "        return \"\"\n",
        "\n",
        "def pdf_to_images(pdf_path):\n",
        "    images = []\n",
        "    with fitz.open(pdf_path) as doc:\n",
        "        for page_num, page in enumerate(doc):\n",
        "            pix = page.get_pixmap(dpi=200)\n",
        "            img_bytes = pix.tobytes(\"png\")\n",
        "            images.append((page_num + 1, img_bytes))\n",
        "    return images\n",
        "\n",
        "def process_pdf(file_path):\n",
        "    images = pdf_to_images(file_path)\n",
        "\n",
        "    for page_num, img_bytes in images:\n",
        "        print(f\"\\nกำลังประมวลผลหน้า {page_num} ...\")\n",
        "        eng_text = ocr_image(img_bytes)\n",
        "        if eng_text:\n",
        "            print(\" ข้อความ OCR:\", eng_text[:60].replace(\"\\n\", \" \") + \"...\")\n",
        "            thai_text = translate_en_to_th(eng_text)\n",
        "            print(\" แปลแล้ว:\", thai_text.strip() + \"\\n\")\n",
        "\n",
        "            print(f\"\\n=== แปลหน้า {page_num} ===\\n{thai_text.strip()}\\n\")\n",
        "        else:\n",
        "            print(\"ไม่สามารถดึงข้อความจากหน้าได้\\n\")\n",
        "\n",
        "    print(\"\\n เสร็จสิ้น! แสดงผลทั้งหมดแล้วทางหน้าจอ\")\n",
        "\n",
        "# ---- เรียกใช้งาน ----\n",
        "if __name__ == \"__main__\":\n",
        "    pdf_path = \"/content/drive/MyDrive/Colab Notebooks/dataset/os sheet_rotated.pdf\"\n",
        "    process_pdf(pdf_path)"
      ]
    }
  ]
}